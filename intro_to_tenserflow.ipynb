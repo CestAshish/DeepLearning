{
 "cells": [
  {
   "cell_type": "code",
   "execution_count": 3,
   "id": "cd930c62-3f48-4036-b421-96122ee64ef3",
   "metadata": {},
   "outputs": [],
   "source": [
    "\"\"\"traditional prog : rules+data=answer\n",
    "   machine learning : answers+data=rules\n",
    "   \"\"\"\n",
    "import matplotlib.pyplot as plt\n"
   ]
  },
  {
   "cell_type": "code",
   "execution_count": 4,
   "id": "f536e01e-f203-414c-9826-66d52ecf1d0c",
   "metadata": {},
   "outputs": [
    {
     "name": "stdout",
     "output_type": "stream",
     "text": [
      "Epoch 1/20\n",
      "1/1 [==============================] - 1s 1s/step - loss: 20.1300\n",
      "Epoch 2/20\n",
      "1/1 [==============================] - 0s 6ms/step - loss: 16.1042\n",
      "Epoch 3/20\n",
      "1/1 [==============================] - 0s 39ms/step - loss: 12.9315\n",
      "Epoch 4/20\n",
      "1/1 [==============================] - 0s 3ms/step - loss: 10.4300\n",
      "Epoch 5/20\n",
      "1/1 [==============================] - 0s 9ms/step - loss: 8.4567\n",
      "Epoch 6/20\n",
      "1/1 [==============================] - 0s 4ms/step - loss: 6.8990\n",
      "Epoch 7/20\n",
      "1/1 [==============================] - 0s 16ms/step - loss: 5.6684\n",
      "Epoch 8/20\n",
      "1/1 [==============================] - 0s 12ms/step - loss: 4.6953\n",
      "Epoch 9/20\n",
      "1/1 [==============================] - 0s 8ms/step - loss: 3.9249\n",
      "Epoch 10/20\n",
      "1/1 [==============================] - 0s 8ms/step - loss: 3.3141\n",
      "Epoch 11/20\n",
      "1/1 [==============================] - 0s 16ms/step - loss: 2.8288\n",
      "Epoch 12/20\n",
      "1/1 [==============================] - 0s 16ms/step - loss: 2.4425\n",
      "Epoch 13/20\n",
      "1/1 [==============================] - 0s 12ms/step - loss: 2.1341\n",
      "Epoch 14/20\n",
      "1/1 [==============================] - 0s 13ms/step - loss: 1.8871\n",
      "Epoch 15/20\n",
      "1/1 [==============================] - 0s 16ms/step - loss: 1.6885\n",
      "Epoch 16/20\n",
      "1/1 [==============================] - 0s 16ms/step - loss: 1.5281\n",
      "Epoch 17/20\n",
      "1/1 [==============================] - 0s 11ms/step - loss: 1.3978\n",
      "Epoch 18/20\n",
      "1/1 [==============================] - 0s 8ms/step - loss: 1.2912\n",
      "Epoch 19/20\n",
      "1/1 [==============================] - 0s 8ms/step - loss: 1.2035\n",
      "Epoch 20/20\n",
      "1/1 [==============================] - 0s 15ms/step - loss: 1.1306\n"
     ]
    },
    {
     "data": {
      "text/plain": [
       "<keras.callbacks.History at 0x2454f55b4d0>"
      ]
     },
     "execution_count": 4,
     "metadata": {},
     "output_type": "execute_result"
    }
   ],
   "source": [
    "import tensorflow as tf\n",
    "import numpy as np\n",
    "model = tf.keras.Sequential([tf.keras.layers.Dense(units=1,input_shape=[1])])\n",
    "model.compile(optimizer='sgd', loss='mean_squared_error')\n",
    "xs= np.array([-1,0,1,2,3,4],dtype=float)\n",
    "ys= np.array([-3,-1,1,3,5,7],dtype=float)\n",
    "model.fit(xs,ys, epochs=20)\n"
   ]
  },
  {
   "cell_type": "code",
   "execution_count": 20,
   "id": "56acb65b-da0f-4bb5-b301-2e5f060d5e98",
   "metadata": {},
   "outputs": [
    {
     "data": {
      "image/png": "[encoded data removed]",
      "text/plain": [
       "<Figure size 640x480 with 1 Axes>"
      ]
     },
     "metadata": {},
     "output_type": "display_data"
    }
   ],
   "source": [
    "plt.scatter(xs, ys)\n",
    "plt.plot(xs, ys)\n",
    "plt.xlabel('X axis label')\n",
    "plt.ylabel('Y axis label')\n",
    "plt.title('Plot of the relation')\n",
    "plt.show()"
   ]
  },
  {
   "cell_type": "code",
   "execution_count": 5,
   "id": "7ea659f9-e88f-4ce3-9bdb-11be750eef7d",
   "metadata": {},
   "outputs": [
    {
     "name": "stdout",
     "output_type": "stream",
     "text": [
      "1/1 [==============================] - 0s 286ms/step\n",
      "[[14.554758]\n",
      " [28.893421]\n",
      " [57.570747]]\n"
     ]
    }
   ],
   "source": [
    "print(model.predict([10,20,40]))"
   ]
  },
  {
   "cell_type": "markdown",
   "id": "7f4a17fd-9a10-4bf7-88a5-ec07d08e3cff",
   "metadata": {},
   "source": [
    "code_week2\n"
   ]
  },
  {
   "cell_type": "code",
   "execution_count": 6,
   "id": "ab0aa20a-62ec-4cf8-852a-439b6efbbfb4",
   "metadata": {},
   "outputs": [],
   "source": [
    "fashion_mnist = tf.keras.datasets.fashion_mnist\n",
    "(train_img, train_label), (test_img, test_label) = fashion_mnist.load_data()\n",
    "\n"
   ]
  },
  {
   "cell_type": "code",
   "execution_count": 7,
   "id": "a38e577e-6420-41ec-a3aa-ab3a4de9cdf1",
   "metadata": {},
   "outputs": [
    {
     "name": "stdout",
     "output_type": "stream",
     "text": [
      "label : 8\n",
      "\n",
      " image pixel array : [[  0   0   0   0   0   0   0   0   0   0   0   2   0  65 108  78   0   0   0   0   0   0   0   0   0   0   0   0]\n",
      " [  0   0   0   0   0   0   0   0   0   0   4   0  47 123   0  87  38   0   3   0   0   0   0   0   0   0   0   0]\n",
      " [  0   0   0   0   0   0   0   0   0   0   5   0 167  51   0  38 157   0   4   0   0   0   0   0   0   0   0   0]\n",
      " [  0   0   0   0   0   0   0   0   0   0   0   0 127   0   0   0 142   5   0   2   0   0   0   0   0   0   0   0]\n",
      " [  0   0   0   0   0   0   0   0   0   4   0  63 112   0   5   0 102 106   0   6   0   0   0   0   0   0   0   0]\n",
      " [  0   0   0   0   0   0   0   0   0   8   0 103  83   0   5   0  38 168   0   0   2   0   0   0   0   0   0   0]\n",
      " [  0   0   0   0   1   0   0   0   0   5   0 140  39   0   3   0   0 182  17   0   3   0   0   0   0   0   0   0]\n",
      " [  0   0   0   0   0   0   0   0   1   0   0 152   0   0   1   0   0 156 102   0   2   1   0   0   0   0   0   0]\n",
      " [  0   0   0   0   0   0   2   6   5   0  32 208   0   1   3   5   0 148 169   0   2   1   5   3   0   0   0   0]\n",
      " [  0   0   0   0   0   0   0   0   0   0  70 105   0   0   0   0   0  19 242   0   0   0   0   0   0   0   0   0]\n",
      " [  0   0   0   0   0   0   9 102  92  82 146 156  95 121 121 129 121 129 216 178 126 182 100   0   0   0   0   0]\n",
      " [  0   0   0   0   0  32 172 216 193 197 198 206 201 217 214 219 228 207 202 212 205 222 207 103   0   0   0   0]\n",
      " [  0   0   0   0   0  92 219 193 188 172 189 191 165 165 162 163 170 185 225 191 198 201 215 147   0   0   0   0]\n",
      " [  0   0   0   0  48  50 222 196 196 188 196 196 184 196 198 195 192 200 189 211 198 200 237 138   0   0   0   0]\n",
      " [  0   0   0   0   4  17 220 196 193 196 192 193 192 198 199 199 205 211  38 174 217 195 241 133   0   0   0   0]\n",
      " [  0   0   0   0  27   7 255 196 196 200 199 200 200 199 200 198 213 200  35 188 218 190 244 128   0   0   0   0]\n",
      " [  0   0   0   0  94   0 250 196 196 203 201 201 201 201 201 202 203 214 193 215 207 189 247 112   0   0   0   0]\n",
      " [  0   0   0   0 136   0 231 202 196 202 202 202 202 202 203 204 203 203 216 214 205 188 249 101   0   0   0   0]\n",
      " [  0   0   0   0 140   7 206 215 191 202 202 202 202 204 204 204 204 204 200 202 207 189 249  90   0   0   0   0]\n",
      " [  0   0   0   0 117  32 182 225 189 203 204 204 203 204 205 205 205 204 205 204 210 189 253  64   0   0   0   0]\n",
      " [  0   0   0   0  73  72 131 238 188 206 205 205 205 205 205 204 205 205 204 205 210 198 252  30   0   0   0   0]\n",
      " [  0   0   0   0  33 107  82 247 188 206 206 206 206 205 206 206 206 206 206 205 207 201 245   0   0   0   0   0]\n",
      " [  0   0   0   0   0 114  49 237 193 208 207 207 207 208 208 208 210 208 207 206 203 211 202   0   0   0   0   0]\n",
      " [  0   0   0   0   0  87  25 181 211 206 213 211 212 210 206 207 208 206 206 205 204 215 182   0   0   0   0   0]\n",
      " [  0   0   0   0   0  25  85 157 218 213 214 216 215 216 208 208 216 216 215 215 213 225 183   0   0   0   0   0]\n",
      " [  0   0   0   0   3   0  52 174 228 228 222 220 217 236 244 244 241 235 236 199 195 205 125   0   0   0   0   0]\n",
      " [  0   0   0   0   2   0   0 159 202 227 196 211  63   0   0   0   0   0   0   0   0   0   0   0   0   0   0   0]\n",
      " [  0   0   0   0   0   0   0  68  84  62  50  26   0   0   0   0   0   0   0   0   0   0   2   0   0   0   0   0]]\n"
     ]
    },
    {
     "data": {
      "text/plain": [
       "<matplotlib.image.AxesImage at 0x2454f591710>"
      ]
     },
     "execution_count": 7,
     "metadata": {},
     "output_type": "execute_result"
    },
    {
     "data": {
      "image/png": "[encoded data removed]",
      "text/plain": [
       "<Figure size 640x480 with 1 Axes>"
      ]
     },
     "metadata": {},
     "output_type": "display_data"
    }
   ],
   "source": [
    "index=44879\n",
    "np.set_printoptions(linewidth=320)\n",
    "print(f'label : {train_label[index]}')\n",
    "print(f'\\n image pixel array : {train_img[index]}')\n",
    "plt.imshow(train_img[index],cmap='Greys')"
   ]
  },
  {
   "cell_type": "code",
   "execution_count": 8,
   "id": "9bacb41f-1bd8-4933-a5fe-2cd38c627cef",
   "metadata": {},
   "outputs": [],
   "source": [
    "model=tf.keras.Sequential([\n",
    "    tf.keras.layers.Flatten(input_shape=(28,28)),\n",
    "    tf.keras.layers.Dense(28,activation=tf.nn.relu),\n",
    "    tf.keras.layers.Dense(28*2,activation=tf.nn.relu),\n",
    "    tf.keras.layers.Dense(28*3,activation=tf.nn.relu),\n",
    "    tf.keras.layers.Dense(28*4,activation=tf.nn.relu),\n",
    "    tf.keras.layers.Dense(28*5,activation=tf.nn.relu),\n",
    "    tf.keras.layers.Dense(100,activation=tf.nn.relu),\n",
    "    tf.keras.layers.Dense(50,activation=tf.nn.relu),\n",
    "    tf.keras.layers.Dense(10,activation=tf.nn.softmax)\n",
    "])"
   ]
  },
  {
   "cell_type": "code",
   "execution_count": 9,
   "id": "59817928-7938-4260-b465-2534a503f671",
   "metadata": {},
   "outputs": [],
   "source": [
    "train_img=train_img/255\n",
    "test_img=test_img/225"
   ]
  },
  {
   "cell_type": "code",
   "execution_count": 10,
   "id": "1d71789c-b9ca-48be-8b66-e21807f6f670",
   "metadata": {},
   "outputs": [],
   "source": [
    "class myCallbacks(tf.keras.callbacks.Callback):\n",
    "    def on_epoch_end(s, epoch, logs={}):\n",
    "        if(logs.get('loss')<0.1):\n",
    "            print('\\nLoss is low, cancelling training.')\n",
    "            s.model.stop_training =True"
   ]
  },
  {
   "cell_type": "code",
   "execution_count": 12,
   "id": "70948f67-4742-4dfc-ba26-65c5aa492f05",
   "metadata": {},
   "outputs": [
    {
     "name": "stdout",
     "output_type": "stream",
     "text": [
      "Epoch 1/5\n",
      "1875/1875 [==============================] - 14s 6ms/step - loss: 0.3539 - accuracy: 0.8701\n",
      "Epoch 2/5\n",
      "1875/1875 [==============================] - 10s 5ms/step - loss: 0.3335 - accuracy: 0.8760\n",
      "Epoch 3/5\n",
      "1875/1875 [==============================] - 10s 5ms/step - loss: 0.3217 - accuracy: 0.8815\n",
      "Epoch 4/5\n",
      "1875/1875 [==============================] - 10s 5ms/step - loss: 0.3143 - accuracy: 0.8833\n",
      "Epoch 5/5\n",
      "1875/1875 [==============================] - 10s 5ms/step - loss: 0.3027 - accuracy: 0.8867\n"
     ]
    },
    {
     "data": {
      "text/plain": [
       "<keras.callbacks.History at 0x245529746d0>"
      ]
     },
     "execution_count": 12,
     "metadata": {},
     "output_type": "execute_result"
    }
   ],
   "source": [
    "callbacks= myCallbacks()\n",
    "model.compile(optimizer = tf.optimizers.Adam(),\n",
    "             loss = 'sparse_categorical_crossentropy',\n",
    "             metrics=['accuracy'])\n",
    "model.fit(train_img,train_label,epochs=5,callbacks=[callbacks])"
   ]
  },
  {
   "cell_type": "code",
   "execution_count": 13,
   "id": "8dd06418-f8ce-4fd5-b3b2-27910c60c126",
   "metadata": {},
   "outputs": [
    {
     "name": "stdout",
     "output_type": "stream",
     "text": [
      "313/313 [==============================] - 2s 4ms/step - loss: 0.3910 - accuracy: 0.8649\n"
     ]
    },
    {
     "data": {
      "text/plain": [
       "[0.3910372853279114, 0.8648999929428101]"
      ]
     },
     "execution_count": 13,
     "metadata": {},
     "output_type": "execute_result"
    }
   ],
   "source": [
    "model.evaluate(test_img, test_label)\n"
   ]
  },
  {
   "cell_type": "code",
   "execution_count": 15,
   "id": "8e6560cf-6adb-4d1d-9885-5bd06a4e3a64",
   "metadata": {},
   "outputs": [
    {
     "name": "stdout",
     "output_type": "stream",
     "text": [
      "313/313 [==============================] - 1s 3ms/step\n",
      "[0. 0. 0. 0. 0. 0. 0. 0. 0. 1.]\n"
     ]
    }
   ],
   "source": [
    "classifications = model.predict(test_img)\n",
    "np.set_printoptions(suppress=True, precision=1)\n",
    "print(classifications[0])"
   ]
  },
  {
   "cell_type": "code",
   "execution_count": 16,
   "id": "f3518e85-f88b-4277-b3ea-55fe99b7a911",
   "metadata": {},
   "outputs": [
    {
     "name": "stdout",
     "output_type": "stream",
     "text": [
      "9\n"
     ]
    }
   ],
   "source": [
    "print(test_label[0])"
   ]
  },
  {
   "cell_type": "code",
   "execution_count": null,
   "id": "989de14e-3797-412f-9833-8f80393e91cb",
   "metadata": {},
   "outputs": [],
   "source": [
    "\n"
   ]
  },
  {
   "cell_type": "code",
   "execution_count": null,
   "id": "a3701525-25c8-4fce-8092-c77611547a71",
   "metadata": {},
   "outputs": [],
   "source": []
  },
  {
   "cell_type": "code",
   "execution_count": null,
   "id": "9e618cdc-8c49-465a-9f3c-82fcdc30d878",
   "metadata": {},
   "outputs": [],
   "source": []
  },
  {
   "cell_type": "code",
   "execution_count": null,
   "id": "a4701420-13a6-48ce-b846-9431dc623f0e",
   "metadata": {},
   "outputs": [],
   "source": []
  },
  {
   "cell_type": "code",
   "execution_count": null,
   "id": "a030f76e-e7ae-4f2e-a391-03e8e0accad2",
   "metadata": {},
   "outputs": [],
   "source": []
  },
  {
   "cell_type": "code",
   "execution_count": null,
   "id": "e106304d-bcba-4909-846a-fda73db475ab",
   "metadata": {},
   "outputs": [],
   "source": []
  }
 ],
 "metadata": {
  "kernelspec": {
   "display_name": "Python 3 (ipykernel)",
   "language": "python",
   "name": "python3"
  },
  "language_info": {
   "codemirror_mode": {
    "name": "ipython",
    "version": 3
   },
   "file_extension": ".py",
   "mimetype": "text/x-python",
   "name": "python",
   "nbconvert_exporter": "python",
   "pygments_lexer": "ipython3",
   "version": "3.11.5"
  }
 },
 "nbformat": 4,
 "nbformat_minor": 5
}
